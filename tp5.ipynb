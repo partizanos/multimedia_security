{
  "nbformat": 4,
  "nbformat_minor": 0,
  "metadata": {
    "colab": {
      "name": "tp5.ipynb",
      "version": "0.3.2",
      "provenance": [],
      "include_colab_link": true
    },
    "kernelspec": {
      "name": "python3",
      "display_name": "Python 3"
    }
  },
  "cells": [
    {
      "cell_type": "markdown",
      "metadata": {
        "id": "view-in-github",
        "colab_type": "text"
      },
      "source": [
        "<a href=\"https://colab.research.google.com/github/partizanos/multimedia_security/blob/master/tp5.ipynb\" target=\"_parent\"><img src=\"https://colab.research.google.com/assets/colab-badge.svg\" alt=\"Open In Colab\"/></a>"
      ]
    },
    {
      "cell_type": "markdown",
      "metadata": {
        "id": "gPW_Tt7gkrxp",
        "colab_type": "text"
      },
      "source": [
        "# Tp5 Dimitris \n",
        "\n",
        "## Non-blind watermark detection\n",
        "### Exercise 1.1   \n",
        "\n",
        "Read the image cameraman.tif in. It will serve as host image x.\n",
        "For given hypothesis:\n",
        "\n",
        "$$H 0 : v = x + z$$\n",
        "$$H 1 : v = x + w + z$$\n",
        "\n",
        "where x is the host image, v is the marked image, w is the watermark and z is additive white Gaussian\n",
        "\n",
        "noise, i.e.$ Z ∼ N (0, σ^2 _{noise} I)$\n"
      ]
    },
    {
      "cell_type": "code",
      "metadata": {
        "id": "Vl8AkDQLiflo",
        "colab_type": "code",
        "colab": {}
      },
      "source": [
        "import matplotlib.image as mpimg\n",
        "import matplotlib.pyplot as plt\n",
        "import numpy as np\n",
        "import requests\n",
        "from PIL import Image\n",
        "from io import BytesIO\n",
        "import math\n",
        "from skimage import data\n",
        "\n",
        "cam = data.camera()\n",
        "N1, N2 = cam.shape\n",
        "x = int(np.sqrt(N1*N2))\n",
        "w_prime = np.random.uniform(-1,1,x**2)\n",
        "w_prime = w_prime.reshape((x, x))\n",
        "\n",
        "\n",
        "indices=[]\n",
        "for i in range(int(x**2/2)):\n",
        "  indices.append((np.random.randint(x), np.random.randint(x)))\n",
        "\n",
        "w = np.zeros((N1,N2))\n",
        "for tup in indices:\n",
        "  w[tup] = w_prime[tup]\n",
        "\n",
        "y = cam + w \n",
        "z = np.random.normal(0, 1, N1*N2)\n",
        "z=z.reshape((N1, N2))\n",
        "\n",
        "v = y + z\n",
        "\n",
        "w_non_blind = v - cam \n",
        "\n",
        "\n"
      ],
      "execution_count": 0,
      "outputs": []
    },
    {
      "cell_type": "markdown",
      "metadata": {
        "id": "Wn1CP8z16Axj",
        "colab_type": "text"
      },
      "source": [
        "## 1.2 Exercise\n",
        "1. The detection threshold is denoted with $T _ρ$ non-blind , evaluate the following numerically for the\n",
        "non-blind detection shown in Figure 1:\n",
        "• $p_f$ , the probability of false alarm\n",
        "• $p_m$ , the probability of miss\n",
        "• $p_ d$ , the probability of correct detection, defined as $1 − p _m$\n",
        "\n",
        "\n",
        "where $μ_ρ|H_0 , σ_ρ|H_0 , μ_ρ|H_1,  σ_ρ|H_1 $are the means and variances of the linear correlation ρ under\n",
        "hypothesis $H_0$ and $H_1$ for J realizations each. They can be ascertained as follows:"
      ]
    },
    {
      "cell_type": "code",
      "metadata": {
        "id": "y0HYLjqEtkg1",
        "colab_type": "code",
        "colab": {}
      },
      "source": [
        "mu = lambda p: np.sum(p) / p.shape[0]\n",
        "sigma = lambda p, mu: (np.sum(p - mu)**2) / p.shape[0]"
      ],
      "execution_count": 0,
      "outputs": []
    },
    {
      "cell_type": "markdown",
      "metadata": {
        "id": "3B4i9zxWYeiu",
        "colab_type": "text"
      },
      "source": [
        "Obviously, ρ H 0 and ρ H 1 need to be experimentally obtained.\n",
        "\n",
        "For hypothesis $H_ 0 , ρ ^{H_0}$ is determined J = 100 times, k = {1...J} for noise realizations z with\n",
        "a fixed $\\sigma^2 _{noise} = 50$\n"
      ]
    },
    {
      "cell_type": "code",
      "metadata": {
        "id": "8-wMeZUU9qnR",
        "colab_type": "code",
        "colab": {
          "base_uri": "https://localhost:8080/",
          "height": 34
        },
        "outputId": "8579f850-522a-438f-8cfc-e8e67e6665e6"
      },
      "source": [
        "J = 100\n",
        "sigma = 50\n",
        "rho_h0 = np.random.normal(0, 50, J) \n",
        "rho_h0.shape"
      ],
      "execution_count": 8,
      "outputs": [
        {
          "output_type": "execute_result",
          "data": {
            "text/plain": [
              "(100,)"
            ]
          },
          "metadata": {
            "tags": []
          },
          "execution_count": 8
        }
      ]
    },
    {
      "cell_type": "markdown",
      "metadata": {
        "id": "KNKNzmp49q1G",
        "colab_type": "text"
      },
      "source": [
        "For hypothesis $H_ 1$ and $ρ^{H_ 1}$ the watermark w is generated J times with a fixed strength γ = ±1\n",
        "2\n",
        "and a fixed density $θ _N$ = 0.1. The noise realization z is again fixed with $σ _{noise}\n",
        "= 50.$"
      ]
    },
    {
      "cell_type": "code",
      "metadata": {
        "id": "PRIa4Pcu9rAz",
        "colab_type": "code",
        "colab": {}
      },
      "source": [
        "theta = 0.1\n",
        "N = int(N1 * N2 * theta )\n",
        "w_h1 = np.random.choice([-1,1],N)\n",
        "rho_h1 = np.random.normal(0, 50, J) \n",
        "# rho_h1"
      ],
      "execution_count": 0,
      "outputs": []
    },
    {
      "cell_type": "markdown",
      "metadata": {
        "id": "IzDOExO8F5hq",
        "colab_type": "text"
      },
      "source": [
        "2. Calculate and display the Receiver Operating Characteristic (ROC) curve for the binary threshold\n",
        "test following the above mentioned experiment set up. The detection threshold is denoted with\n",
        "$T _{ρ\\_ non-blind}$ ."
      ]
    },
    {
      "cell_type": "code",
      "metadata": {
        "id": "wMFx1t2MGIdJ",
        "colab_type": "code",
        "colab": {}
      },
      "source": [
        ""
      ],
      "execution_count": 0,
      "outputs": []
    },
    {
      "cell_type": "markdown",
      "metadata": {
        "id": "K4YgWKz9GImw",
        "colab_type": "text"
      },
      "source": [
        "3. Fill out Table 1 with all results. Note that obviously only the noise and not the watermark has\n",
        "influence on hypothesis H 0 , so the relevant cells have been grayed out.\n",
        "\n",
        "\n",
        "|      |   $\\sigma^2 _{noise} = 50$ |  |  |  |  |   $\\sigma^2 _{noise} = 100$ | | | | |\n",
        "| ------------- |:- |:- |:- |:- |:----------- |:- |:- |:- |:- |:------:|\n",
        "|  |  $\\theta _N = 0.1$  | |$\\theta _N = 0.3 $|||  $\\theta _N = 0.1$| |$\\theta _N = 0.3 $|\n",
        "|  |  $\\gamma \\pm = 1$| $\\gamma \\pm = 5$ |   $\\gamma \\pm = 1$ |$\\gamma \\pm = 5$||  $\\gamma \\pm = 1$| $\\gamma \\pm = 5$ |   $\\gamma \\pm = 1$ |$\\gamma \\pm = 5$|\n",
        "|$\\mu | H_0$ | | | | | | | | | |\n",
        "|$\\sigma | H_0$ | | | | | | | | | |\n",
        "|$\\mu | H_1$ | | | | | | | | | |\n",
        "|$\\mu | H_1$ | | | | | | | | | |"
      ]
    },
    {
      "cell_type": "markdown",
      "metadata": {
        "id": "PgrzbNbvJ_E3",
        "colab_type": "text"
      },
      "source": [
        "4. What can you conclude about non-blind watermark detection given the strength of the watermark\n",
        "and the noise variance"
      ]
    },
    {
      "cell_type": "markdown",
      "metadata": {
        "id": "UCJ_MSj9JbGt",
        "colab_type": "text"
      },
      "source": [
        ""
      ]
    }
  ]
}