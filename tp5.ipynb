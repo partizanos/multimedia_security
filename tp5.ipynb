{
  "nbformat": 4,
  "nbformat_minor": 0,
  "metadata": {
    "colab": {
      "name": "tp5.ipynb",
      "version": "0.3.2",
      "provenance": [],
      "include_colab_link": true
    },
    "kernelspec": {
      "name": "python3",
      "display_name": "Python 3"
    }
  },
  "cells": [
    {
      "cell_type": "markdown",
      "metadata": {
        "id": "view-in-github",
        "colab_type": "text"
      },
      "source": [
        "<a href=\"https://colab.research.google.com/github/partizanos/multimedia_security/blob/master/tp5.ipynb\" target=\"_parent\"><img src=\"https://colab.research.google.com/assets/colab-badge.svg\" alt=\"Open In Colab\"/></a>"
      ]
    },
    {
      "cell_type": "markdown",
      "metadata": {
        "id": "gPW_Tt7gkrxp",
        "colab_type": "text"
      },
      "source": [
        "# Tp5 Dimitris \n",
        "\n",
        "## Non-blind watermark detection\n",
        "### Exercise 1.1   \n",
        "\n",
        "Read the image cameraman.tif in. It will serve as host image x.\n",
        "For given hypothesis:\n",
        "\n",
        "$$H 0 : v = x + z$$\n",
        "$$H 1 : v = x + w + z$$\n",
        "\n",
        "where x is the host image, v is the marked image, w is the watermark and z is additive white Gaussian\n",
        "\n",
        "noise, i.e.$ Z ∼ N (0, σ^2 _{noise} I)$\n"
      ]
    },
    {
      "cell_type": "code",
      "metadata": {
        "id": "Vl8AkDQLiflo",
        "colab_type": "code",
        "colab": {}
      },
      "source": [
        "import matplotlib.image as mpimg\n",
        "import matplotlib.pyplot as plt\n",
        "import numpy as np\n",
        "import requests\n",
        "from PIL import Image\n",
        "from io import BytesIO\n",
        "import math\n",
        "\n",
        "response = requests.get(\"https://raw.githubusercontent.com/partizanos/advanced_image_processing/master/TP/TP4/test.png\")\n",
        "im = Image.open(BytesIO(response.content))\n",
        "img = np.array(im)\n",
        "M, N, _ = img.shape\n",
        "im.show()"
      ],
      "execution_count": 0,
      "outputs": []
    }
  ]
}